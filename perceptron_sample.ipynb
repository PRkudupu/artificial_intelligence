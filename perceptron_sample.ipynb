{
 "cells": [
  {
   "cell_type": "code",
   "execution_count": null,
   "metadata": {},
   "outputs": [],
   "source": [
    "import numpy as np\n",
    "# Setting the random seed, feel free to change it and see different solutions.\n",
    "np.random.seed(42)\n",
    "\n",
    "def stepFunction(t):\n",
    "    if t >= 0:\n",
    "        return 1\n",
    "    return 0\n",
    "\n",
    "def prediction(X, W, b):\n",
    "    return stepFunction((np.matmul(X,W)+b)[0])\n",
    "\n",
    "# TODO: Fill in the code below to implement the perceptron trick.\n",
    "# The function should receive as inputs the data X, the labels y,\n",
    "# the weights W (as an array), and the bias b,\n",
    "# update the weights and bias W, b, according to the perceptron algorithm,\n",
    "# and return W and b.\n",
    "def perceptronStep(X, y, W, b, learn_rate = 0.01):\n",
    "    # Fill in code\n",
    "    return W, b\n",
    "def perceptronStep(X, y, W, b, learn_rate = 0.01):\n",
    "    for i in range(len(X)):\n",
    "        y_hat = prediction(X[i],W,b)\n",
    "        if y[i]-y_hat == 1:\n",
    "            W[0] += X[i][0]*learn_rate\n",
    "            W[1] += X[i][1]*learn_rate\n",
    "            b += learn_rate\n",
    "        elif y[i]-y_hat == -1:\n",
    "            W[0] -= X[i][0]*learn_rate\n",
    "            W[1] -= X[i][1]*learn_rate\n",
    "            b -= learn_rate\n",
    "    return W, b\n",
    "    \n",
    "# This function runs the perceptron algorithm repeatedly on the dataset,\n",
    "# and returns a few of the boundary lines obtained in the iterations,\n",
    "# for plotting purposes.\n",
    "# Feel free to play with the learning rate and the num_epochs,\n",
    "# and see your results plotted below.\n",
    "def trainPerceptronAlgorithm(X, y, learn_rate = 0.01, num_epochs = 25):\n",
    "    x_min, x_max = min(X.T[0]), max(X.T[0])\n",
    "    y_min, y_max = min(X.T[1]), max(X.T[1])\n",
    "    W = np.array(np.random.rand(2,1))\n",
    "    b = np.random.rand(1)[0] + x_max\n",
    "    # These are the solution lines that get plotted below.\n",
    "    boundary_lines = []\n",
    "    for i in range(num_epochs):\n",
    "        # In each epoch, we apply the perceptron step.\n",
    "        W, b = perceptronStep(X, y, W, b, learn_rate)\n",
    "        boundary_lines.append((-W[0]/W[1], -b/W[1]))\n",
    "    return boundary_lines\n"
   ]
  },
  {
   "cell_type": "code",
   "execution_count": 1,
   "metadata": {},
   "outputs": [
    {
     "data": {
      "text/plain": [
       "(0.3815, 0.4622, 1)"
      ]
     },
     "execution_count": 1,
     "metadata": {},
     "output_type": "execute_result"
    }
   ],
   "source": [
    "0.78051,-0.063669,1\n",
    "0.28774,0.29139,1\n",
    "0.40714,0.17878,1\n",
    "0.2923,0.4217,1\n",
    "0.50922,0.35256,1\n",
    "0.27785,0.10802,1\n",
    "0.27527,0.33223,1\n",
    "0.43999,0.31245,1\n",
    "0.33557,0.42984,1\n",
    "0.23448,0.24986,1\n",
    "0.0084492,0.13658,1\n",
    "0.12419,0.33595,1\n",
    "0.25644,0.42624,1\n",
    "0.4591,0.40426,1\n",
    "0.44547,0.45117,1\n",
    "0.42218,0.20118,1\n",
    "0.49563,0.21445,1\n",
    "0.30848,0.24306,1\n",
    "0.39707,0.44438,1\n",
    "0.32945,0.39217,1\n",
    "0.40739,0.40271,1\n",
    "0.3106,0.50702,1\n",
    "0.49638,0.45384,1\n",
    "0.10073,0.32053,1\n",
    "0.69907,0.37307,1\n",
    "0.29767,0.69648,1\n",
    "0.15099,0.57341,1\n",
    "0.16427,0.27759,1\n",
    "0.33259,0.055964,1\n",
    "0.53741,0.28637,1\n",
    "0.19503,0.36879,1\n",
    "0.40278,0.035148,1\n",
    "0.21296,0.55169,1\n",
    "0.48447,0.56991,1\n",
    "0.25476,0.34596,1\n",
    "0.21726,0.28641,1\n",
    "0.67078,0.46538,1\n",
    "0.3815,0.4622,1\n"
   ]
  },
  {
   "cell_type": "code",
   "execution_count": null,
   "metadata": {},
   "outputs": [],
   "source": []
  }
 ],
 "metadata": {
  "kernelspec": {
   "display_name": "Python 3",
   "language": "python",
   "name": "python3"
  },
  "language_info": {
   "codemirror_mode": {
    "name": "ipython",
    "version": 3
   },
   "file_extension": ".py",
   "mimetype": "text/x-python",
   "name": "python",
   "nbconvert_exporter": "python",
   "pygments_lexer": "ipython3",
   "version": "3.7.0"
  }
 },
 "nbformat": 4,
 "nbformat_minor": 2
}
