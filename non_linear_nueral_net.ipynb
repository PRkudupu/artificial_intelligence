{
 "cells": [
  {
   "cell_type": "markdown",
   "metadata": {},
   "source": [
    "Based on the above video, let's define the combination of two new perceptrons as \n",
    "w1*0.4 + w2*0.6 + b. \n",
    "\n",
    "Which of the following values for the weights and the bias would result in the final probability of the point to be 0.88?\n",
    "\n",
    "w1:2 w2:6 b:-2\n",
    "\n",
    "w1:3 w2:5 b:-2.2\n",
    "\n",
    "w1:5 w2:4 b:-3"
   ]
  },
  {
   "cell_type": "code",
   "execution_count": 3,
   "metadata": {},
   "outputs": [],
   "source": [
    "import numpy as np\n",
    "# function to add weights and bias\n",
    "def add(w1,w2,b):\n",
    "    return w1*0.4+w2*0.6+b\n",
    "# function return sigmoid\n",
    "def sigmoid(x):\n",
    "    return 1 / (1 + np.exp(-x))"
   ]
  },
  {
   "cell_type": "code",
   "execution_count": 8,
   "metadata": {},
   "outputs": [
    {
     "name": "stdout",
     "output_type": "stream",
     "text": [
      "2.3999999999999995\n",
      "0.9168273035060777\n",
      "2.0\n",
      "0.8807970779778823\n",
      "1.4000000000000004\n",
      "0.8021838885585818\n"
     ]
    }
   ],
   "source": [
    "#1st case\n",
    "res=add(2,6,-2)\n",
    "print(\"1st\",res)\n",
    "print(sigmoid(res))\n",
    "\n",
    "#2nd case\n",
    "res=add(3,5,-2.2)\n",
    "print(\"2nd\",res)\n",
    "print(sigmoid(res))\n",
    "\n",
    "#3rd case\n",
    "res=add(5,4,-3)\n",
    "print(res)\n",
    "print(sigmoid(res))"
   ]
  },
  {
   "cell_type": "code",
   "execution_count": null,
   "metadata": {},
   "outputs": [],
   "source": []
  }
 ],
 "metadata": {
  "kernelspec": {
   "display_name": "Python 3",
   "language": "python",
   "name": "python3"
  },
  "language_info": {
   "codemirror_mode": {
    "name": "ipython",
    "version": 3
   },
   "file_extension": ".py",
   "mimetype": "text/x-python",
   "name": "python",
   "nbconvert_exporter": "python",
   "pygments_lexer": "ipython3",
   "version": "3.7.0"
  }
 },
 "nbformat": 4,
 "nbformat_minor": 2
}
